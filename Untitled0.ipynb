{
  "nbformat": 4,
  "nbformat_minor": 0,
  "metadata": {
    "colab": {
      "provenance": [],
      "authorship_tag": "ABX9TyPB6JUUiVOaSTso10FTr6yI",
      "include_colab_link": true
    },
    "kernelspec": {
      "name": "python3",
      "display_name": "Python 3"
    },
    "language_info": {
      "name": "python"
    }
  },
  "cells": [
    {
      "cell_type": "markdown",
      "metadata": {
        "id": "view-in-github",
        "colab_type": "text"
      },
      "source": [
        "<a href=\"https://colab.research.google.com/github/uppunaveen/DSA0301-NLP-192125030/blob/main/Untitled0.ipynb\" target=\"_parent\"><img src=\"https://colab.research.google.com/assets/colab-badge.svg\" alt=\"Open In Colab\"/></a>"
      ]
    },
    {
      "cell_type": "code",
      "execution_count": 1,
      "metadata": {
        "colab": {
          "base_uri": "https://localhost:8080/"
        },
        "id": "8xd4BxfF50Qs",
        "outputId": "3a031c06-a404-4ca0-9735-28b6d6118779"
      },
      "outputs": [
        {
          "output_type": "stream",
          "name": "stdout",
          "text": [
            "Tokens: ['She', 'sings', ',', 'and', 'he', 'dances', 'while', 'the', 'music', 'plays', '.']\n",
            "Noun Phrases: ['She', 'he', 'the music']\n",
            "Sentence Type: Declarative\n",
            "Is Compound Sentence: True\n",
            "Verbs: ['sings', 'dances', 'plays']\n",
            "Subjects: ['She', 'he', 'music']\n"
          ]
        }
      ],
      "source": [
        "import spacy\n",
        "\n",
        "# Load the spaCy language model\n",
        "nlp = spacy.load(\"en_core_web_sm\")\n",
        "\n",
        "# Example sentence\n",
        "sentence = \"She sings, and he dances while the music plays.\"\n",
        "\n",
        "# Parse the sentence using spaCy\n",
        "doc = nlp(sentence)\n",
        "\n",
        "# Tokenize the sentence\n",
        "tokens = [token.text for token in doc]\n",
        "print(\"Tokens:\", tokens)\n",
        "\n",
        "# Extract noun phrases\n",
        "noun_phrases = [np.text for np in doc.noun_chunks]\n",
        "print(\"Noun Phrases:\", noun_phrases)\n",
        "\n",
        "# Identify the sentence type (declarative, interrogative, imperative, exclamatory)\n",
        "if doc[-1].is_punct:\n",
        "    if doc[-1].text == \"?\":\n",
        "        sentence_type = \"Interrogative\"\n",
        "    elif doc[-1].text == \"!\":\n",
        "        sentence_type = \"Exclamatory\"\n",
        "    else:\n",
        "        sentence_type = \"Declarative\"\n",
        "else:\n",
        "    sentence_type = \"Imperative\"\n",
        "print(\"Sentence Type:\", sentence_type)\n",
        "\n",
        "# Check if it's a compound sentence\n",
        "is_compound = any(token.text == \",\" for token in doc)\n",
        "print(\"Is Compound Sentence:\", is_compound)\n",
        "\n",
        "# Identify verbs and subjects\n",
        "verbs = [token.text for token in doc if token.pos_ == \"VERB\"]\n",
        "subjects = [token.text for token in doc if token.dep_ == \"nsubj\"]\n",
        "print(\"Verbs:\", verbs)\n",
        "print(\"Subjects:\", subjects)"
      ]
    }
  ]
}