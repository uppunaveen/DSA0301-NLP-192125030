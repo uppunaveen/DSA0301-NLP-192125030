{
  "nbformat": 4,
  "nbformat_minor": 0,
  "metadata": {
    "colab": {
      "provenance": [],
      "authorship_tag": "ABX9TyMLWAqDNdqYh0/y1M7uHQX2",
      "include_colab_link": true
    },
    "kernelspec": {
      "name": "python3",
      "display_name": "Python 3"
    },
    "language_info": {
      "name": "python"
    }
  },
  "cells": [
    {
      "cell_type": "markdown",
      "metadata": {
        "id": "view-in-github",
        "colab_type": "text"
      },
      "source": [
        "<a href=\"https://colab.research.google.com/github/uppunaveen/DSA0301-NLP-192125030/blob/main/stochastic%20pos%20tags%20Untitled1.ipynb\" target=\"_parent\"><img src=\"https://colab.research.google.com/assets/colab-badge.svg\" alt=\"Open In Colab\"/></a>"
      ]
    },
    {
      "cell_type": "code",
      "execution_count": 1,
      "metadata": {
        "colab": {
          "base_uri": "https://localhost:8080/"
        },
        "id": "L--m9k1oFX6j",
        "outputId": "4dd9feb5-0e1a-4268-f0bd-41424af86967"
      },
      "outputs": [
        {
          "output_type": "stream",
          "name": "stdout",
          "text": [
            "[('the', 'DT'), ('quick', 'JJ'), ('brown', 'JJ'), ('fox', 'NN'), ('jumps', 'VBZ'), ('over', 'IN'), ('the', 'DT'), ('lazy', 'JJ'), ('dog', 'NN')]\n"
          ]
        }
      ],
      "source": [
        "import random\n",
        "from collections import defaultdict\n",
        "\n",
        "# Sample training data (you should replace this with your own labeled training data)\n",
        "training_data = [\n",
        "    ('The', 'DT'),\n",
        "    ('quick', 'JJ'),\n",
        "    ('brown', 'JJ'),\n",
        "    ('fox', 'NN'),\n",
        "    ('jumps', 'VBZ'),\n",
        "    ('over', 'IN'),\n",
        "    ('the', 'DT'),\n",
        "    ('lazy', 'JJ'),\n",
        "    ('dog', 'NN'),\n",
        "]\n",
        "\n",
        "# Function to train the stochastic POS tagger\n",
        "def train_stochastic_pos_tagger(training_data):\n",
        "    pos_counts = defaultdict(lambda: defaultdict(int))\n",
        "    pos_totals = defaultdict(int)\n",
        "\n",
        "    # Count occurrences of each word in each POS tag\n",
        "    for word, pos in training_data:\n",
        "        pos_counts[word.lower()][pos] += 1\n",
        "        pos_totals[pos] += 1\n",
        "\n",
        "    # Calculate probabilities for each word-POS combination\n",
        "    probabilities = defaultdict(lambda: defaultdict(float))\n",
        "    for word, pos_count in pos_counts.items():\n",
        "        for pos, count in pos_count.items():\n",
        "            probabilities[word][pos] = count / pos_totals[pos]\n",
        "\n",
        "    return probabilities\n",
        "\n",
        "# Function to perform stochastic part-of-speech tagging\n",
        "def stochastic_pos_tagger(sentence, probabilities):\n",
        "    tagged_sentence = []\n",
        "\n",
        "    for word in sentence:\n",
        "        word = word.lower()\n",
        "\n",
        "        if word in probabilities:\n",
        "            pos_probabilities = probabilities[word]\n",
        "            pos_choices = list(pos_probabilities.keys())\n",
        "            chosen_pos = random.choices(pos_choices, weights=list(pos_probabilities.values()))[0]\n",
        "        else:\n",
        "            # If the word is not in the training data, assign a default POS tag\n",
        "            chosen_pos = 'NN'  # You can choose a default based on your knowledge\n",
        "\n",
        "        tagged_sentence.append((word, chosen_pos))\n",
        "\n",
        "    return tagged_sentence\n",
        "\n",
        "# Train the stochastic POS tagger\n",
        "probabilities = train_stochastic_pos_tagger(training_data)\n",
        "\n",
        "# Example sentence to tag\n",
        "sentence_to_tag = ['The', 'quick', 'brown', 'fox', 'jumps', 'over', 'the', 'lazy', 'dog']\n",
        "\n",
        "# Perform stochastic part-of-speech tagging\n",
        "tagged_sentence = stochastic_pos_tagger(sentence_to_tag, probabilities)\n",
        "\n",
        "# Print the result\n",
        "print(tagged_sentence)\n"
      ]
    }
  ]
}